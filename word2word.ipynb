{
 "cells": [
  {
   "cell_type": "markdown",
   "metadata": {},
   "source": [
    "# Install Required Libraries"
   ]
  },
  {
   "cell_type": "code",
   "execution_count": 1,
   "metadata": {},
   "outputs": [
    {
     "name": "stdout",
     "output_type": "stream",
     "text": [
      "/bin/bash: /opt/anaconda/envs/Python3/lib/libtinfo.so.6: no version information available (required by /bin/bash)\n",
      "\u001b[1m\n",
      "         .:::.     .::.       \n",
      "        ....yy:    .yy.       \n",
      "        :.  .yy.    y.        \n",
      "             :y:   .:         \n",
      "             .yy  .:          \n",
      "              yy..:           \n",
      "              :y:.            \n",
      "              .y.             \n",
      "             .:.              \n",
      "        ....:.                \n",
      "        :::.                  \n",
      "\u001b[0;33m\n",
      "• Project files and data should be stored in /project. This is shared among everyone\n",
      "  in the project.\n",
      "• Personal files and configuration should be stored in /home/faculty.\n",
      "• Files outside /project and /home/faculty will be lost when this server is terminated.\n",
      "• Create custom environments to setup your servers reproducibly.\n",
      "\u001b[0m\n",
      "bash: /opt/anaconda/envs/Python3/lib/libtinfo.so.6: no version information available (required by bash)\n",
      "Requirement already satisfied: fuzzywuzzy in /opt/anaconda/envs/Python3/lib/python3.9/site-packages (0.18.0)\n"
     ]
    }
   ],
   "source": [
    "!pip install fuzzywuzzy"
   ]
  },
  {
   "cell_type": "markdown",
   "metadata": {},
   "source": [
    "# Import Necessary Libraries"
   ]
  },
  {
   "cell_type": "code",
   "execution_count": 2,
   "metadata": {},
   "outputs": [
    {
     "name": "stderr",
     "output_type": "stream",
     "text": [
      "/opt/anaconda/envs/Python3/lib/python3.9/site-packages/fuzzywuzzy/fuzz.py:11: UserWarning: Using slow pure-python SequenceMatcher. Install python-Levenshtein to remove this warning\n",
      "  warnings.warn('Using slow pure-python SequenceMatcher. Install python-Levenshtein to remove this warning')\n"
     ]
    }
   ],
   "source": [
    "#Numerical & Data Manipulation\n",
    "import numpy as np \n",
    "import pandas as pd\n",
    "\n",
    "#Natural Language Processing\n",
    "import nltk\n",
    "from nltk.corpus import stopwords\n",
    "import string\n",
    "from nltk.tokenize import word_tokenize\n",
    "from nltk import pos_tag, ne_chunk\n",
    "from nltk.stem import WordNetLemmatizer\n",
    "\n",
    "#Text Processing & Modeling\n",
    "from sklearn.feature_extraction.text import TfidfVectorizer\n",
    "from sklearn.feature_extraction.text import CountVectorizer\n",
    "from sklearn.metrics.pairwise import cosine_similarity\n",
    "\n",
    "from fuzzywuzzy import fuzz\n",
    "\n",
    "#Iteration & Regular Expression\n",
    "import re\n",
    "import itertools\n",
    "from nltk.tokenize import RegexpTokenizer"
   ]
  },
  {
   "cell_type": "markdown",
   "metadata": {},
   "source": [
    "# Load the dataset"
   ]
  },
  {
   "cell_type": "code",
   "execution_count": 3,
   "metadata": {},
   "outputs": [
    {
     "name": "stdout",
     "output_type": "stream",
     "text": [
      "Loaded data file clean_data.csv with 89 rows and 7 columns\n"
     ]
    },
    {
     "data": {
      "text/html": [
       "<div>\n",
       "<style scoped>\n",
       "    .dataframe tbody tr th:only-of-type {\n",
       "        vertical-align: middle;\n",
       "    }\n",
       "\n",
       "    .dataframe tbody tr th {\n",
       "        vertical-align: top;\n",
       "    }\n",
       "\n",
       "    .dataframe thead th {\n",
       "        text-align: right;\n",
       "    }\n",
       "</style>\n",
       "<table border=\"1\" class=\"dataframe\">\n",
       "  <thead>\n",
       "    <tr style=\"text-align: right;\">\n",
       "      <th></th>\n",
       "      <th>Course</th>\n",
       "      <th>Type</th>\n",
       "      <th>topic</th>\n",
       "      <th>Description</th>\n",
       "      <th>Link</th>\n",
       "      <th>word_count</th>\n",
       "      <th>cleaned_desc</th>\n",
       "    </tr>\n",
       "  </thead>\n",
       "  <tbody>\n",
       "    <tr>\n",
       "      <th>0</th>\n",
       "      <td>Artificial Intelligence</td>\n",
       "      <td>Courseware</td>\n",
       "      <td>Getting Started with Enterprise-grade AI</td>\n",
       "      <td>This course covers the foundations of AI for b...</td>\n",
       "      <td>https://skillsbuild.org/college-students/digit...</td>\n",
       "      <td>23</td>\n",
       "      <td>course covers foundations ai business includin...</td>\n",
       "    </tr>\n",
       "    <tr>\n",
       "      <th>1</th>\n",
       "      <td>Artificial Intelligence</td>\n",
       "      <td>Courseware</td>\n",
       "      <td>OpenDS4All</td>\n",
       "      <td>OpenDS4All is a project created to accelerate ...</td>\n",
       "      <td>https://github.com/odpi/OpenDS4All/tree/master...</td>\n",
       "      <td>111</td>\n",
       "      <td>opends4all project created accelerate creation...</td>\n",
       "    </tr>\n",
       "    <tr>\n",
       "      <th>2</th>\n",
       "      <td>Artificial Intelligence</td>\n",
       "      <td>Courseware</td>\n",
       "      <td>IBM AI Education</td>\n",
       "      <td>Dive into this introductory course and get fam...</td>\n",
       "      <td>https://www.mindspark.org/ibm-ai</td>\n",
       "      <td>571</td>\n",
       "      <td>dive introductory course get familiar basics a...</td>\n",
       "    </tr>\n",
       "    <tr>\n",
       "      <th>3</th>\n",
       "      <td>Artificial Intelligence</td>\n",
       "      <td>Courseware</td>\n",
       "      <td>Watson Academy</td>\n",
       "      <td>IBMÂs portfolio of business-ready tools, appl...</td>\n",
       "      <td>https://www.ibm.com/training/artificial-intell...</td>\n",
       "      <td>175</td>\n",
       "      <td>ibms portfolio business ready tools applicatio...</td>\n",
       "    </tr>\n",
       "    <tr>\n",
       "      <th>4</th>\n",
       "      <td>Artificial Intelligence</td>\n",
       "      <td>Courseware</td>\n",
       "      <td>Create a Node-RED starter application</td>\n",
       "      <td>A flow-based programming tool for wiring toget...</td>\n",
       "      <td>https://developer.ibm.com/components/node-red/</td>\n",
       "      <td>47</td>\n",
       "      <td>flow based programming tool wiring together ha...</td>\n",
       "    </tr>\n",
       "  </tbody>\n",
       "</table>\n",
       "</div>"
      ],
      "text/plain": [
       "                    Course        Type  \\\n",
       "0  Artificial Intelligence  Courseware   \n",
       "1  Artificial Intelligence  Courseware   \n",
       "2  Artificial Intelligence  Courseware   \n",
       "3  Artificial Intelligence  Courseware   \n",
       "4  Artificial Intelligence  Courseware   \n",
       "\n",
       "                                      topic  \\\n",
       "0  Getting Started with Enterprise-grade AI   \n",
       "1                                OpenDS4All   \n",
       "2                          IBM AI Education   \n",
       "3                            Watson Academy   \n",
       "4     Create a Node-RED starter application   \n",
       "\n",
       "                                         Description  \\\n",
       "0  This course covers the foundations of AI for b...   \n",
       "1  OpenDS4All is a project created to accelerate ...   \n",
       "2  Dive into this introductory course and get fam...   \n",
       "3  IBMÂs portfolio of business-ready tools, appl...   \n",
       "4  A flow-based programming tool for wiring toget...   \n",
       "\n",
       "                                                Link  word_count  \\\n",
       "0  https://skillsbuild.org/college-students/digit...          23   \n",
       "1  https://github.com/odpi/OpenDS4All/tree/master...         111   \n",
       "2                  https://www.mindspark.org/ibm-ai          571   \n",
       "3  https://www.ibm.com/training/artificial-intell...         175   \n",
       "4    https://developer.ibm.com/components/node-red/           47   \n",
       "\n",
       "                                        cleaned_desc  \n",
       "0  course covers foundations ai business includin...  \n",
       "1  opends4all project created accelerate creation...  \n",
       "2  dive introductory course get familiar basics a...  \n",
       "3  ibms portfolio business ready tools applicatio...  \n",
       "4  flow based programming tool wiring together ha...  "
      ]
     },
     "execution_count": 3,
     "metadata": {},
     "output_type": "execute_result"
    }
   ],
   "source": [
    "#Read the file\n",
    "data = pd.read_csv(\"clean_data.csv\", encoding=\"latin-1\")\n",
    "print(\"Loaded data file {0} with {1} rows and {2} columns\".format(\"clean_data.csv\"\n",
    "                                                                  ,data.shape[0]\n",
    "                                                                  ,data.shape[1]))\n",
    "data.head()"
   ]
  },
  {
   "cell_type": "markdown",
   "metadata": {},
   "source": [
    "# Recommendations using techniques like Cosine-similariy and Fuzzy logic"
   ]
  },
  {
   "cell_type": "code",
   "execution_count": 4,
   "metadata": {},
   "outputs": [],
   "source": [
    "def recommend_courses_by_topic(data, desired_topics):\n",
    "    # Drop duplicated topics and keep first instance\n",
    "    data = data.drop_duplicates(subset='topic')\n",
    "\n",
    "    # Preprocessing the user's query\n",
    "    processed_query = ' '.join(desired_topics)\n",
    "\n",
    "    # Calculating cosine similarity between topics and query\n",
    "    similarity_scores = data['topic'].apply(lambda x: fuzz.partial_ratio(processed_query, x))\n",
    "\n",
    "    # Sorting courses based on similarity scores\n",
    "    sorted_indices = similarity_scores.argsort()[::-1]\n",
    "\n",
    "    # Collecting recommended sub-topics and links\n",
    "    recommended_courses = []\n",
    "    topic_found = False\n",
    "\n",
    "    for index in sorted_indices:\n",
    "        try:\n",
    "            subtopic = data.loc[index, 'topic']\n",
    "            recommended_courses.append(subtopic)\n",
    "            topic_found = True\n",
    "            if len(recommended_courses) == 5:  # Store top 5 recommendations\n",
    "                break\n",
    "        except KeyError as e:\n",
    "            keyerror = e\n",
    "\n",
    "    return recommended_courses if topic_found else []"
   ]
  },
  {
   "cell_type": "code",
   "execution_count": 5,
   "metadata": {},
   "outputs": [],
   "source": [
    "# Iterate through all topics in the dataset\n",
    "topic_list = data['topic'].unique()\n",
    "\n",
    "# Store the recommendations\n",
    "result_df = pd.DataFrame(columns=['Topic', 'Recommended_Course_1','Recommended_Course_2','Recommended_Course_3',\n",
    "                                 'Recommended_Course_4','Recommended_Course_5'])"
   ]
  },
  {
   "cell_type": "code",
   "execution_count": 6,
   "metadata": {},
   "outputs": [
    {
     "name": "stderr",
     "output_type": "stream",
     "text": [
      "/tmp/ipykernel_127386/3742294103.py:8: FutureWarning: The frame.append method is deprecated and will be removed from pandas in a future version. Use pandas.concat instead.\n",
      "  result_df = result_df.append({'Topic': topic, 'Recommended_Course_1': recommendations[0],\n",
      "/tmp/ipykernel_127386/3742294103.py:8: FutureWarning: The frame.append method is deprecated and will be removed from pandas in a future version. Use pandas.concat instead.\n",
      "  result_df = result_df.append({'Topic': topic, 'Recommended_Course_1': recommendations[0],\n",
      "/tmp/ipykernel_127386/3742294103.py:8: FutureWarning: The frame.append method is deprecated and will be removed from pandas in a future version. Use pandas.concat instead.\n",
      "  result_df = result_df.append({'Topic': topic, 'Recommended_Course_1': recommendations[0],\n",
      "/tmp/ipykernel_127386/3742294103.py:8: FutureWarning: The frame.append method is deprecated and will be removed from pandas in a future version. Use pandas.concat instead.\n",
      "  result_df = result_df.append({'Topic': topic, 'Recommended_Course_1': recommendations[0],\n",
      "/tmp/ipykernel_127386/3742294103.py:8: FutureWarning: The frame.append method is deprecated and will be removed from pandas in a future version. Use pandas.concat instead.\n",
      "  result_df = result_df.append({'Topic': topic, 'Recommended_Course_1': recommendations[0],\n",
      "/tmp/ipykernel_127386/3742294103.py:8: FutureWarning: The frame.append method is deprecated and will be removed from pandas in a future version. Use pandas.concat instead.\n",
      "  result_df = result_df.append({'Topic': topic, 'Recommended_Course_1': recommendations[0],\n"
     ]
    },
    {
     "name": "stdout",
     "output_type": "stream",
     "text": [
      "['Getting Started with Enterprise-grade AI', 'Getting Started with Enterprise Data Science', 'Getting Started with Threat Intelligence and Hunting', 'IBM CloudLabs', 'IBM QRadar SIEM Advanced Topics']\n",
      "['OpenDS4All', 'Red Hat System Administration I (RH124)', 'IBM XL C/C++', 'IBM XL Fortran', 'IBM Cloud Feature Code']\n",
      "['IBM AI Education', 'IBM Engineering Test Management', 'Introduction to IBM zSystems', 'Application Modernization with IBM z/OS', 'Planning Analytics']\n",
      "['Watson Academy', 'IBM Engineering Workflow Management', 'z/OS Introduction', 'Project Debater for Academic Use', 'IBM Z Software Trials']\n",
      "['Create a Node-RED starter application', 'IBM Z System Administrator', 'Project CodeNet', 'IBM Security SOAR', 'Trustworthy Generation 360']\n",
      "['Project Debater for Academic Use', 'Project CodeNet', 'Watson Academy', 'IBM Z System Administrator', 'IBM Engineering Workflow Management']\n",
      "['IBM Maximo Visual Inspection', 'SimulAI', 'Introduction to IBM zSystems', 'IBM Digital App Builder', 'IBM QRadar SIEM Advanced Topics']\n",
      "['AI Fairness 360', 'AI FactSheets 360', 'Causal Inference 360', 'IBM XL C/C++', 'Trustworthy Generation 360']\n",
      "['Project CodeNet', 'Project Debater for Academic Use', 'Solution tutorials', 'IBM Z System Administrator', 'Planning Analytics']\n",
      "['SimulAI', 'IBM Maximo Visual Inspection', 'Causal Inference 360', 'IBM XL C/C++', 'IBM XL Fortran']\n"
     ]
    },
    {
     "name": "stderr",
     "output_type": "stream",
     "text": [
      "/tmp/ipykernel_127386/3742294103.py:8: FutureWarning: The frame.append method is deprecated and will be removed from pandas in a future version. Use pandas.concat instead.\n",
      "  result_df = result_df.append({'Topic': topic, 'Recommended_Course_1': recommendations[0],\n",
      "/tmp/ipykernel_127386/3742294103.py:8: FutureWarning: The frame.append method is deprecated and will be removed from pandas in a future version. Use pandas.concat instead.\n",
      "  result_df = result_df.append({'Topic': topic, 'Recommended_Course_1': recommendations[0],\n",
      "/tmp/ipykernel_127386/3742294103.py:8: FutureWarning: The frame.append method is deprecated and will be removed from pandas in a future version. Use pandas.concat instead.\n",
      "  result_df = result_df.append({'Topic': topic, 'Recommended_Course_1': recommendations[0],\n",
      "/tmp/ipykernel_127386/3742294103.py:8: FutureWarning: The frame.append method is deprecated and will be removed from pandas in a future version. Use pandas.concat instead.\n",
      "  result_df = result_df.append({'Topic': topic, 'Recommended_Course_1': recommendations[0],\n"
     ]
    },
    {
     "name": "stdout",
     "output_type": "stream",
     "text": [
      "['IBM Digital App Builder', 'Red Hat Application Development I: Programming in Java EE (AD183)', 'Application Modernization with IBM z/OS', 'IBM Maximo Visual Inspection', 'Developing Secure Software']\n",
      "['AI Explainability 360', 'Cognos Analytics', 'Red Hat Application Development I: Programming in Java EE (AD183)', 'AI Fairness 360', 'Trustworthy Generation 360']\n",
      "['AI FactSheets 360', 'AI Fairness 360', 'Causal Inference 360', 'IBM XL C/C++', 'AI Explainability 360']\n",
      "['Adversarial Robustness Toolbox', 'Red Hat Enterprise Linux Automation with Ansible (RH294)', 'AI Fairness 360', 'Application Modernization with IBM z/OS', 'IBM DB2 Standard']\n",
      "['Causal Inference 360', 'AI Fairness 360', 'Getting Started with Enterprise Data Science', 'IBM Maximo Visual Inspection', 'Trustworthy Generation 360']\n",
      "['Trustworthy Generation 360', 'Uncertainty Quantification 360', 'IBM Analog Hardware Acceleration Kit', 'AI Fairness 360', 'Causal Inference 360']\n"
     ]
    },
    {
     "name": "stderr",
     "output_type": "stream",
     "text": [
      "/tmp/ipykernel_127386/3742294103.py:8: FutureWarning: The frame.append method is deprecated and will be removed from pandas in a future version. Use pandas.concat instead.\n",
      "  result_df = result_df.append({'Topic': topic, 'Recommended_Course_1': recommendations[0],\n",
      "/tmp/ipykernel_127386/3742294103.py:8: FutureWarning: The frame.append method is deprecated and will be removed from pandas in a future version. Use pandas.concat instead.\n",
      "  result_df = result_df.append({'Topic': topic, 'Recommended_Course_1': recommendations[0],\n",
      "/tmp/ipykernel_127386/3742294103.py:8: FutureWarning: The frame.append method is deprecated and will be removed from pandas in a future version. Use pandas.concat instead.\n",
      "  result_df = result_df.append({'Topic': topic, 'Recommended_Course_1': recommendations[0],\n",
      "/tmp/ipykernel_127386/3742294103.py:8: FutureWarning: The frame.append method is deprecated and will be removed from pandas in a future version. Use pandas.concat instead.\n",
      "  result_df = result_df.append({'Topic': topic, 'Recommended_Course_1': recommendations[0],\n",
      "/tmp/ipykernel_127386/3742294103.py:8: FutureWarning: The frame.append method is deprecated and will be removed from pandas in a future version. Use pandas.concat instead.\n",
      "  result_df = result_df.append({'Topic': topic, 'Recommended_Course_1': recommendations[0],\n",
      "/tmp/ipykernel_127386/3742294103.py:8: FutureWarning: The frame.append method is deprecated and will be removed from pandas in a future version. Use pandas.concat instead.\n",
      "  result_df = result_df.append({'Topic': topic, 'Recommended_Course_1': recommendations[0],\n"
     ]
    },
    {
     "name": "stdout",
     "output_type": "stream",
     "text": [
      "['IBM Analog Hardware Acceleration Kit', 'Cognos Analytics', 'Journey to Cloud: Envisioning Your Solution', 'Trustworthy Generation 360', 'IBM AI Education']\n",
      "['Uncertainty Quantification 360', 'Trustworthy Generation 360', 'Red Hat Application Development I: Programming in Java EE (AD183)', 'IBM AI Education', 'Getting Started with Enterprise Data Science']\n"
     ]
    },
    {
     "name": "stderr",
     "output_type": "stream",
     "text": [
      "/tmp/ipykernel_127386/3742294103.py:8: FutureWarning: The frame.append method is deprecated and will be removed from pandas in a future version. Use pandas.concat instead.\n",
      "  result_df = result_df.append({'Topic': topic, 'Recommended_Course_1': recommendations[0],\n",
      "/tmp/ipykernel_127386/3742294103.py:8: FutureWarning: The frame.append method is deprecated and will be removed from pandas in a future version. Use pandas.concat instead.\n",
      "  result_df = result_df.append({'Topic': topic, 'Recommended_Course_1': recommendations[0],\n"
     ]
    },
    {
     "name": "stdout",
     "output_type": "stream",
     "text": [
      "['Getting Started with Enterprise-grade AI', 'Getting Started with Threat Intelligence and Hunting', 'Getting Started with Enterprise Data Science', 'IBM QRadar SIEM Advanced Topics', 'IBM Watson Machine Learning Accelerator']\n",
      "['Getting Started with Enterprise Data Science', 'Getting Started with Enterprise-grade AI', 'Getting Started with Threat Intelligence and Hunting', 'Causal Inference 360', 'Uncertainty Quantification 360']\n",
      "['Getting Started with Threat Intelligence and Hunting', 'Getting Started with Enterprise-grade AI', 'Getting Started with Enterprise Data Science', 'Solution tutorials', 'IBM CloudLabs']\n",
      "['Getting Started with Cloud for the Enterprise', 'IBM Cognos Analytics - Author Reports Fundamentals', 'IBM Cloud Associate Solution Advisor', 'Red Hat System Administration II (RH134)', 'Red Hat System Administration I (RH124)']\n"
     ]
    },
    {
     "name": "stderr",
     "output_type": "stream",
     "text": [
      "/tmp/ipykernel_127386/3742294103.py:8: FutureWarning: The frame.append method is deprecated and will be removed from pandas in a future version. Use pandas.concat instead.\n",
      "  result_df = result_df.append({'Topic': topic, 'Recommended_Course_1': recommendations[0],\n",
      "/tmp/ipykernel_127386/3742294103.py:8: FutureWarning: The frame.append method is deprecated and will be removed from pandas in a future version. Use pandas.concat instead.\n",
      "  result_df = result_df.append({'Topic': topic, 'Recommended_Course_1': recommendations[0],\n",
      "/tmp/ipykernel_127386/3742294103.py:8: FutureWarning: The frame.append method is deprecated and will be removed from pandas in a future version. Use pandas.concat instead.\n",
      "  result_df = result_df.append({'Topic': topic, 'Recommended_Course_1': recommendations[0],\n",
      "/tmp/ipykernel_127386/3742294103.py:8: FutureWarning: The frame.append method is deprecated and will be removed from pandas in a future version. Use pandas.concat instead.\n",
      "  result_df = result_df.append({'Topic': topic, 'Recommended_Course_1': recommendations[0],\n"
     ]
    },
    {
     "name": "stdout",
     "output_type": "stream",
     "text": [
      "['IBM Cognos Analytics - Architecture and Logging', 'SPSS Modeler Premium', 'IBM Planning Analytics - Design and Develop Models in Planning Analytics Workspace', 'IBM Cognos Framework Manager - Design Metadata Models', 'IBM Planning Analytics - Analyze Data and Create Reports']\n"
     ]
    },
    {
     "name": "stderr",
     "output_type": "stream",
     "text": [
      "/tmp/ipykernel_127386/3742294103.py:8: FutureWarning: The frame.append method is deprecated and will be removed from pandas in a future version. Use pandas.concat instead.\n",
      "  result_df = result_df.append({'Topic': topic, 'Recommended_Course_1': recommendations[0],\n"
     ]
    },
    {
     "name": "stdout",
     "output_type": "stream",
     "text": [
      "['SPSS Modeler Premium', 'IBM Cognos Analytics - Architecture and Logging', 'Constraint Programming with ILOG CP Optimizer', 'IBM Cognos Framework Manager - Design Metadata Models', 'IBM Z System Administrator']\n",
      "['Constraint Programming with ILOG CP Optimizer', 'SPSS Modeler Premium', 'IBM Cognos Analytics - Architecture and Logging', 'IBM Cognos Framework Manager - Design Metadata Models', 'IBM Planning Analytics - Design and Develop Models in Planning Analytics Workspace']\n",
      "['Overview of IBM Cognos Analytics', 'Zowe', 'Journey to Cloud: Envisioning Your Solution', 'IBM QRadar SIEM Advanced Topics', 'Solution tutorials']\n",
      "['IBM Cognos Analytics - Architecture and Logging', 'IBM Planning Analytics - Design and Develop Models in Planning Analytics Workspace', 'IBM Planning Analytics - Analyze Data and Create Reports', 'IBM Cognos Framework Manager - Design Metadata Models', 'SPSS Modeler Premium']\n"
     ]
    },
    {
     "name": "stderr",
     "output_type": "stream",
     "text": [
      "/tmp/ipykernel_127386/3742294103.py:8: FutureWarning: The frame.append method is deprecated and will be removed from pandas in a future version. Use pandas.concat instead.\n",
      "  result_df = result_df.append({'Topic': topic, 'Recommended_Course_1': recommendations[0],\n",
      "/tmp/ipykernel_127386/3742294103.py:8: FutureWarning: The frame.append method is deprecated and will be removed from pandas in a future version. Use pandas.concat instead.\n",
      "  result_df = result_df.append({'Topic': topic, 'Recommended_Course_1': recommendations[0],\n",
      "/tmp/ipykernel_127386/3742294103.py:8: FutureWarning: The frame.append method is deprecated and will be removed from pandas in a future version. Use pandas.concat instead.\n",
      "  result_df = result_df.append({'Topic': topic, 'Recommended_Course_1': recommendations[0],\n",
      "/tmp/ipykernel_127386/3742294103.py:8: FutureWarning: The frame.append method is deprecated and will be removed from pandas in a future version. Use pandas.concat instead.\n",
      "  result_df = result_df.append({'Topic': topic, 'Recommended_Course_1': recommendations[0],\n"
     ]
    },
    {
     "name": "stdout",
     "output_type": "stream",
     "text": [
      "['IBM Cognos Analytics - Architecture and Logging', 'IBM Planning Analytics - Analyze Data and Create Reports', 'IBM Planning Analytics - Design and Develop Models in Planning Analytics Workspace', 'SPSS Modeler Premium', 'IBM Cognos Framework Manager - Design Metadata Models']\n"
     ]
    },
    {
     "name": "stderr",
     "output_type": "stream",
     "text": [
      "/tmp/ipykernel_127386/3742294103.py:8: FutureWarning: The frame.append method is deprecated and will be removed from pandas in a future version. Use pandas.concat instead.\n",
      "  result_df = result_df.append({'Topic': topic, 'Recommended_Course_1': recommendations[0],\n"
     ]
    },
    {
     "name": "stdout",
     "output_type": "stream",
     "text": [
      "['IBM Cognos Analytics - Architecture and Logging', 'IBM Cognos Framework Manager - Design Metadata Models', 'IBM Planning Analytics - Design and Develop Models in Planning Analytics Workspace', 'SPSS Modeler Premium', 'IBM Planning Analytics - Analyze Data and Create Reports']\n",
      "['IBM Cognos Analytics - Author Reports Fundamentals', 'Getting Started with Cloud for the Enterprise', 'IBM Robotic Process Automation - Basic II', 'Red Hat Application Development I: Programming in Java EE (AD183)', 'Watson Academy']\n",
      "['IBM Cognos Analytics - Author Reports with Multidimensional Data', 'IBM Z System Administrator', 'Project Debater for Academic Use', 'IBM Z Enterprise Computing Kickstart', 'Application Modernization with IBM z/OS']\n",
      "['IBM Cognos Analytics - Architecture and Logging', 'IBM Planning Analytics - Design and Develop Models in Planning Analytics Workspace', 'IBM Planning Analytics - Analyze Data and Create Reports', 'IBM Cognos Framework Manager - Design Metadata Models', 'SPSS Modeler Premium']\n",
      "['ILOG CPLEX Optimization Studio', 'Zowe', 'DevOps Transformations for IBM zSystems and CICD pipelines with DBB Git', 'IBM QRadar SIEM Advanced Topics', 'IBM Engineering Test Management']\n",
      "['SPSS Modeler Premium', 'Constraint Programming with ILOG CP Optimizer', 'IBM Cognos Analytics - Architecture and Logging', 'IBM Planning Analytics - Analyze Data and Create Reports', 'IBM Cognos Framework Manager - Design Metadata Models']\n",
      "['Cognos Analytics', 'IBM Analog Hardware Acceleration Kit', 'AI Explainability 360', 'z/OS Introduction', 'IBM Digital App Builder']\n",
      "['IBM DB2 Standard', 'IBM Process Mining Collection', 'Planning Analytics', 'Elyra', 'IBM Z System Administrator']\n"
     ]
    },
    {
     "name": "stderr",
     "output_type": "stream",
     "text": [
      "/tmp/ipykernel_127386/3742294103.py:8: FutureWarning: The frame.append method is deprecated and will be removed from pandas in a future version. Use pandas.concat instead.\n",
      "  result_df = result_df.append({'Topic': topic, 'Recommended_Course_1': recommendations[0],\n",
      "/tmp/ipykernel_127386/3742294103.py:8: FutureWarning: The frame.append method is deprecated and will be removed from pandas in a future version. Use pandas.concat instead.\n",
      "  result_df = result_df.append({'Topic': topic, 'Recommended_Course_1': recommendations[0],\n",
      "/tmp/ipykernel_127386/3742294103.py:8: FutureWarning: The frame.append method is deprecated and will be removed from pandas in a future version. Use pandas.concat instead.\n",
      "  result_df = result_df.append({'Topic': topic, 'Recommended_Course_1': recommendations[0],\n",
      "/tmp/ipykernel_127386/3742294103.py:8: FutureWarning: The frame.append method is deprecated and will be removed from pandas in a future version. Use pandas.concat instead.\n",
      "  result_df = result_df.append({'Topic': topic, 'Recommended_Course_1': recommendations[0],\n",
      "/tmp/ipykernel_127386/3742294103.py:8: FutureWarning: The frame.append method is deprecated and will be removed from pandas in a future version. Use pandas.concat instead.\n",
      "  result_df = result_df.append({'Topic': topic, 'Recommended_Course_1': recommendations[0],\n",
      "/tmp/ipykernel_127386/3742294103.py:8: FutureWarning: The frame.append method is deprecated and will be removed from pandas in a future version. Use pandas.concat instead.\n",
      "  result_df = result_df.append({'Topic': topic, 'Recommended_Course_1': recommendations[0],\n",
      "/tmp/ipykernel_127386/3742294103.py:8: FutureWarning: The frame.append method is deprecated and will be removed from pandas in a future version. Use pandas.concat instead.\n",
      "  result_df = result_df.append({'Topic': topic, 'Recommended_Course_1': recommendations[0],\n",
      "/tmp/ipykernel_127386/3742294103.py:8: FutureWarning: The frame.append method is deprecated and will be removed from pandas in a future version. Use pandas.concat instead.\n",
      "  result_df = result_df.append({'Topic': topic, 'Recommended_Course_1': recommendations[0],\n"
     ]
    },
    {
     "name": "stdout",
     "output_type": "stream",
     "text": [
      "['Planning Analytics', 'Elyra', 'IBM DB2 Standard', 'IBM AI Education', 'IBM Z System Administrator']\n"
     ]
    },
    {
     "name": "stderr",
     "output_type": "stream",
     "text": [
      "/tmp/ipykernel_127386/3742294103.py:8: FutureWarning: The frame.append method is deprecated and will be removed from pandas in a future version. Use pandas.concat instead.\n",
      "  result_df = result_df.append({'Topic': topic, 'Recommended_Course_1': recommendations[0],\n"
     ]
    },
    {
     "name": "stdout",
     "output_type": "stream",
     "text": [
      "['Planning Analytics', 'Elyra', 'IBM DB2 Standard', 'IBM AI Education', 'IBM Z System Administrator']\n",
      "['IBM Process Mining Collection', 'IBM DB2 Standard', 'IBM Planning Analytics - Design and Develop Models in Planning Analytics Workspace', 'IBM Z System Administrator', 'AI Fairness 360']\n",
      "['IBM Robotic Process Automation - Basic I', 'IBM Robotic Process Automation - Basic II', 'Fundamentals of IBM Process Mining', 'Journey to Cloud: Envisioning Your Solution', 'Introduction to IBM zSystems']\n",
      "['IBM Robotic Process Automation - Basic II', 'Fundamentals of IBM Process Mining', 'IBM Robotic Process Automation - Basic I', 'IBM Z Enterprise Computing Kickstart', 'Introduction to OpenShift Applications (DO101)']\n",
      "['Fundamentals of IBM Process Mining', 'Journey to Cloud: Envisioning Your Solution', 'Solution tutorials', 'IBM Robotic Process Automation - Basic II', 'IBM Robotic Process Automation - Basic I']\n",
      "['Journey to Cloud: Envisioning Your Solution', 'Fundamentals of IBM Process Mining', 'Solution tutorials', 'IBM Planning Analytics - Design and Develop Models in Planning Analytics Workspace', 'IBM Robotic Process Automation - Basic I']\n",
      "['Solution tutorials', 'Journey to Cloud: Envisioning Your Solution', 'Fundamentals of IBM Process Mining', 'Project CodeNet', 'IBM Engineering Requirements Management DOORS Next']\n",
      "['IBM Cloud Associate Solution Advisor', 'IBM XL C/C++', 'IBM XL Fortran', 'Getting Started with Cloud for the Enterprise', 'Uncertainty Quantification 360']\n"
     ]
    },
    {
     "name": "stderr",
     "output_type": "stream",
     "text": [
      "/tmp/ipykernel_127386/3742294103.py:8: FutureWarning: The frame.append method is deprecated and will be removed from pandas in a future version. Use pandas.concat instead.\n",
      "  result_df = result_df.append({'Topic': topic, 'Recommended_Course_1': recommendations[0],\n",
      "/tmp/ipykernel_127386/3742294103.py:8: FutureWarning: The frame.append method is deprecated and will be removed from pandas in a future version. Use pandas.concat instead.\n",
      "  result_df = result_df.append({'Topic': topic, 'Recommended_Course_1': recommendations[0],\n",
      "/tmp/ipykernel_127386/3742294103.py:8: FutureWarning: The frame.append method is deprecated and will be removed from pandas in a future version. Use pandas.concat instead.\n",
      "  result_df = result_df.append({'Topic': topic, 'Recommended_Course_1': recommendations[0],\n",
      "/tmp/ipykernel_127386/3742294103.py:8: FutureWarning: The frame.append method is deprecated and will be removed from pandas in a future version. Use pandas.concat instead.\n",
      "  result_df = result_df.append({'Topic': topic, 'Recommended_Course_1': recommendations[0],\n",
      "/tmp/ipykernel_127386/3742294103.py:8: FutureWarning: The frame.append method is deprecated and will be removed from pandas in a future version. Use pandas.concat instead.\n",
      "  result_df = result_df.append({'Topic': topic, 'Recommended_Course_1': recommendations[0],\n",
      "/tmp/ipykernel_127386/3742294103.py:8: FutureWarning: The frame.append method is deprecated and will be removed from pandas in a future version. Use pandas.concat instead.\n",
      "  result_df = result_df.append({'Topic': topic, 'Recommended_Course_1': recommendations[0],\n",
      "/tmp/ipykernel_127386/3742294103.py:8: FutureWarning: The frame.append method is deprecated and will be removed from pandas in a future version. Use pandas.concat instead.\n",
      "  result_df = result_df.append({'Topic': topic, 'Recommended_Course_1': recommendations[0],\n",
      "/tmp/ipykernel_127386/3742294103.py:8: FutureWarning: The frame.append method is deprecated and will be removed from pandas in a future version. Use pandas.concat instead.\n",
      "  result_df = result_df.append({'Topic': topic, 'Recommended_Course_1': recommendations[0],\n"
     ]
    },
    {
     "name": "stdout",
     "output_type": "stream",
     "text": [
      "['IBM CloudLabs', 'Red Hat Application Development I: Programming in Java EE (AD183)', 'Getting Started with Threat Intelligence and Hunting', 'Getting Started with Enterprise-grade AI', 'QRadar Community Edition']\n"
     ]
    },
    {
     "name": "stderr",
     "output_type": "stream",
     "text": [
      "/tmp/ipykernel_127386/3742294103.py:8: FutureWarning: The frame.append method is deprecated and will be removed from pandas in a future version. Use pandas.concat instead.\n",
      "  result_df = result_df.append({'Topic': topic, 'Recommended_Course_1': recommendations[0],\n"
     ]
    },
    {
     "name": "stdout",
     "output_type": "stream",
     "text": [
      "['IBM Cloud Feature Code', 'Quick Start Sessions', 'OpenLiberty', 'Developing Secure Software', 'IBM QRadar SIEM Advanced Topics']\n",
      "['OpenLiberty', 'Quick Start Sessions', 'IBM Cloud Feature Code', 'IBM Z System Administrator', 'Overview of IBM Cognos Analytics']\n",
      "['Quick Start Sessions', 'OpenLiberty', 'IBM Cloud Feature Code', 'Developing Secure Software', 'IBM QRadar SIEM Advanced Topics']\n",
      "['IBM Engineering Requirements Management DOORS Next', 'DevOps Transformations for IBM zSystems and CICD pipelines with DBB Git', 'Solution tutorials', 'ILOG CPLEX Optimization Studio', 'IBM Security Learning Academy']\n",
      "['IBM Engineering Workflow Management', 'Developing Secure Software', 'Watson Academy', 'SPSS Modeler Premium', 'z/OS Introduction']\n",
      "['IBM Engineering Test Management', 'IBM QRadar SIEM Foundations', 'Explore the IBM Software Catalog', 'IBM AI Education', 'Journey to Cloud: Envisioning Your Solution']\n"
     ]
    },
    {
     "name": "stderr",
     "output_type": "stream",
     "text": [
      "/tmp/ipykernel_127386/3742294103.py:8: FutureWarning: The frame.append method is deprecated and will be removed from pandas in a future version. Use pandas.concat instead.\n",
      "  result_df = result_df.append({'Topic': topic, 'Recommended_Course_1': recommendations[0],\n",
      "/tmp/ipykernel_127386/3742294103.py:8: FutureWarning: The frame.append method is deprecated and will be removed from pandas in a future version. Use pandas.concat instead.\n",
      "  result_df = result_df.append({'Topic': topic, 'Recommended_Course_1': recommendations[0],\n",
      "/tmp/ipykernel_127386/3742294103.py:8: FutureWarning: The frame.append method is deprecated and will be removed from pandas in a future version. Use pandas.concat instead.\n",
      "  result_df = result_df.append({'Topic': topic, 'Recommended_Course_1': recommendations[0],\n",
      "/tmp/ipykernel_127386/3742294103.py:8: FutureWarning: The frame.append method is deprecated and will be removed from pandas in a future version. Use pandas.concat instead.\n",
      "  result_df = result_df.append({'Topic': topic, 'Recommended_Course_1': recommendations[0],\n",
      "/tmp/ipykernel_127386/3742294103.py:8: FutureWarning: The frame.append method is deprecated and will be removed from pandas in a future version. Use pandas.concat instead.\n",
      "  result_df = result_df.append({'Topic': topic, 'Recommended_Course_1': recommendations[0],\n",
      "/tmp/ipykernel_127386/3742294103.py:8: FutureWarning: The frame.append method is deprecated and will be removed from pandas in a future version. Use pandas.concat instead.\n",
      "  result_df = result_df.append({'Topic': topic, 'Recommended_Course_1': recommendations[0],\n"
     ]
    },
    {
     "name": "stdout",
     "output_type": "stream",
     "text": [
      "['Explore the IBM Software Catalog', 'IBM QRadar SIEM Foundations', 'IBM Engineering Test Management', 'ILOG CPLEX Optimization Studio', 'IBM QRadar SIEM Advanced Topics']\n"
     ]
    },
    {
     "name": "stderr",
     "output_type": "stream",
     "text": [
      "/tmp/ipykernel_127386/3742294103.py:8: FutureWarning: The frame.append method is deprecated and will be removed from pandas in a future version. Use pandas.concat instead.\n",
      "  result_df = result_df.append({'Topic': topic, 'Recommended_Course_1': recommendations[0],\n"
     ]
    },
    {
     "name": "stdout",
     "output_type": "stream",
     "text": [
      "['IBM Security Learning Academy', 'DevOps Transformations for IBM zSystems and CICD pipelines with DBB Git', 'IBM Z System Administrator', 'IBM Engineering Requirements Management DOORS Next', 'Architecting Applications with IBM Z']\n",
      "['IBM QRadar SIEM Foundations', 'IBM Engineering Test Management', 'IBM AI Education', 'Fundamentals of IBM Process Mining', 'Uncertainty Quantification 360']\n",
      "['IBM QRadar SIEM Foundations', 'Explore the IBM Software Catalog', 'IBM Engineering Test Management', 'Overview of IBM Cognos Analytics', 'ILOG CPLEX Optimization Studio']\n",
      "['IBM QRadar SIEM Advanced Topics', 'z/OS Introduction', 'IBM Cloud Feature Code', 'Overview of IBM Cognos Analytics', 'Red Hat Application Development I: Programming in Java EE (AD183)']\n",
      "['Developing Secure Software', 'IBM Engineering Workflow Management', 'IBM Cloud Feature Code', 'IBM Digital App Builder', 'Explore the IBM Software Catalog']\n",
      "['QRadar Community Edition', 'IBM Watson Machine Learning Accelerator', 'Red Hat Application Development I: Programming in Java EE (AD183)', 'IBM AI Education', 'Solution tutorials']\n",
      "['QRadar SIEM', 'Introduction to IBM zSystems', 'Introduction to OpenShift Applications (DO101)', 'IBM XL Fortran', 'IBM Data Risk Manager']\n",
      "['IBM Data Risk Manager', 'IBM Rational Developer for i RPG & COBOL Tools', 'IBM Z Software Trials', 'Red Hat System Administration I (RH124)', 'QRadar SIEM']\n"
     ]
    },
    {
     "name": "stderr",
     "output_type": "stream",
     "text": [
      "/tmp/ipykernel_127386/3742294103.py:8: FutureWarning: The frame.append method is deprecated and will be removed from pandas in a future version. Use pandas.concat instead.\n",
      "  result_df = result_df.append({'Topic': topic, 'Recommended_Course_1': recommendations[0],\n",
      "/tmp/ipykernel_127386/3742294103.py:8: FutureWarning: The frame.append method is deprecated and will be removed from pandas in a future version. Use pandas.concat instead.\n",
      "  result_df = result_df.append({'Topic': topic, 'Recommended_Course_1': recommendations[0],\n",
      "/tmp/ipykernel_127386/3742294103.py:8: FutureWarning: The frame.append method is deprecated and will be removed from pandas in a future version. Use pandas.concat instead.\n",
      "  result_df = result_df.append({'Topic': topic, 'Recommended_Course_1': recommendations[0],\n",
      "/tmp/ipykernel_127386/3742294103.py:8: FutureWarning: The frame.append method is deprecated and will be removed from pandas in a future version. Use pandas.concat instead.\n",
      "  result_df = result_df.append({'Topic': topic, 'Recommended_Course_1': recommendations[0],\n",
      "/tmp/ipykernel_127386/3742294103.py:8: FutureWarning: The frame.append method is deprecated and will be removed from pandas in a future version. Use pandas.concat instead.\n",
      "  result_df = result_df.append({'Topic': topic, 'Recommended_Course_1': recommendations[0],\n",
      "/tmp/ipykernel_127386/3742294103.py:8: FutureWarning: The frame.append method is deprecated and will be removed from pandas in a future version. Use pandas.concat instead.\n",
      "  result_df = result_df.append({'Topic': topic, 'Recommended_Course_1': recommendations[0],\n",
      "/tmp/ipykernel_127386/3742294103.py:8: FutureWarning: The frame.append method is deprecated and will be removed from pandas in a future version. Use pandas.concat instead.\n",
      "  result_df = result_df.append({'Topic': topic, 'Recommended_Course_1': recommendations[0],\n",
      "/tmp/ipykernel_127386/3742294103.py:8: FutureWarning: The frame.append method is deprecated and will be removed from pandas in a future version. Use pandas.concat instead.\n",
      "  result_df = result_df.append({'Topic': topic, 'Recommended_Course_1': recommendations[0],\n"
     ]
    },
    {
     "name": "stdout",
     "output_type": "stream",
     "text": [
      "['IBM Security SOAR', 'IBM Z Enterprise Computing Kickstart', 'IBM Watson Machine Learning Accelerator', 'SPSS Modeler Premium', 'IBM AI Education']\n"
     ]
    },
    {
     "name": "stderr",
     "output_type": "stream",
     "text": [
      "/tmp/ipykernel_127386/3742294103.py:8: FutureWarning: The frame.append method is deprecated and will be removed from pandas in a future version. Use pandas.concat instead.\n",
      "  result_df = result_df.append({'Topic': topic, 'Recommended_Course_1': recommendations[0],\n"
     ]
    },
    {
     "name": "stdout",
     "output_type": "stream",
     "text": [
      "['QRadar SIEM', 'Red Hat Application Development I: Programming in Java EE (AD183)', 'IBM Data Risk Manager', 'ILOG CPLEX Optimization Studio', 'AI Fairness 360']\n",
      "['IBM Z Enterprise Computing Kickstart', 'IBM Security SOAR', 'IBM Robotic Process Automation - Basic II', 'QRadar SIEM', 'Architecting Applications with IBM Z']\n",
      "['Introduction to IBM zSystems', 'Introduction to OpenShift Applications (DO101)', 'QRadar SIEM', 'IBM XL Fortran', 'IBM AI Education']\n",
      "['IBM Z System Administrator', 'IBM Process Mining Collection', 'Project CodeNet', 'Elyra', 'Architecting Applications with IBM Z']\n",
      "['Architecting Applications with IBM Z', 'Application Modernization with IBM z/OS', 'IBM Z Enterprise Computing Kickstart', 'IBM Z System Administrator', 'IBM Security Learning Academy']\n",
      "['DevOps Transformations for IBM zSystems and CICD pipelines with DBB Git', 'IBM Engineering Requirements Management DOORS Next', 'IBM Data Risk Manager', 'ILOG CPLEX Optimization Studio', 'IBM Robotic Process Automation - Basic II']\n",
      "['Application Modernization with IBM z/OS', 'Architecting Applications with IBM Z', 'IBM AI Education', 'IBM Digital App Builder', 'Red Hat System Administration II (RH134)']\n"
     ]
    },
    {
     "name": "stderr",
     "output_type": "stream",
     "text": [
      "/tmp/ipykernel_127386/3742294103.py:8: FutureWarning: The frame.append method is deprecated and will be removed from pandas in a future version. Use pandas.concat instead.\n",
      "  result_df = result_df.append({'Topic': topic, 'Recommended_Course_1': recommendations[0],\n",
      "/tmp/ipykernel_127386/3742294103.py:8: FutureWarning: The frame.append method is deprecated and will be removed from pandas in a future version. Use pandas.concat instead.\n",
      "  result_df = result_df.append({'Topic': topic, 'Recommended_Course_1': recommendations[0],\n",
      "/tmp/ipykernel_127386/3742294103.py:8: FutureWarning: The frame.append method is deprecated and will be removed from pandas in a future version. Use pandas.concat instead.\n",
      "  result_df = result_df.append({'Topic': topic, 'Recommended_Course_1': recommendations[0],\n",
      "/tmp/ipykernel_127386/3742294103.py:8: FutureWarning: The frame.append method is deprecated and will be removed from pandas in a future version. Use pandas.concat instead.\n",
      "  result_df = result_df.append({'Topic': topic, 'Recommended_Course_1': recommendations[0],\n",
      "/tmp/ipykernel_127386/3742294103.py:8: FutureWarning: The frame.append method is deprecated and will be removed from pandas in a future version. Use pandas.concat instead.\n",
      "  result_df = result_df.append({'Topic': topic, 'Recommended_Course_1': recommendations[0],\n",
      "/tmp/ipykernel_127386/3742294103.py:8: FutureWarning: The frame.append method is deprecated and will be removed from pandas in a future version. Use pandas.concat instead.\n",
      "  result_df = result_df.append({'Topic': topic, 'Recommended_Course_1': recommendations[0],\n",
      "/tmp/ipykernel_127386/3742294103.py:8: FutureWarning: The frame.append method is deprecated and will be removed from pandas in a future version. Use pandas.concat instead.\n",
      "  result_df = result_df.append({'Topic': topic, 'Recommended_Course_1': recommendations[0],\n"
     ]
    },
    {
     "name": "stdout",
     "output_type": "stream",
     "text": [
      "['z/OS Introduction', 'Red Hat OpenShift I: Containers & Kubernetes (DO180)', 'Watson Academy', 'Cognos Analytics', 'IBM QRadar SIEM Advanced Topics']\n",
      "['Zowe', 'IBMÂ\\xa0Developer for z/OS', 'Overview of IBM Cognos Analytics', 'ILOG CPLEX Optimization Studio', 'QRadar Community Edition']\n"
     ]
    },
    {
     "name": "stderr",
     "output_type": "stream",
     "text": [
      "/tmp/ipykernel_127386/3742294103.py:8: FutureWarning: The frame.append method is deprecated and will be removed from pandas in a future version. Use pandas.concat instead.\n",
      "  result_df = result_df.append({'Topic': topic, 'Recommended_Course_1': recommendations[0],\n",
      "/tmp/ipykernel_127386/3742294103.py:8: FutureWarning: The frame.append method is deprecated and will be removed from pandas in a future version. Use pandas.concat instead.\n",
      "  result_df = result_df.append({'Topic': topic, 'Recommended_Course_1': recommendations[0],\n"
     ]
    },
    {
     "name": "stdout",
     "output_type": "stream",
     "text": [
      "['IBMÂ\\xa0Developer for z/OS', 'Zowe', 'IBM Z Enterprise Computing Kickstart', 'IBM Security SOAR', 'Planning Analytics']\n",
      "['IBM Z Software Trials', 'IBM Rational Developer for i RPG & COBOL Tools', 'IBM Data Risk Manager', 'Red Hat System Administration I (RH124)', 'Red Hat Application Development I: Programming in Java EE (AD183)']\n",
      "['IBM Rational Developer for i RPG & COBOL Tools', 'IBM Z Software Trials', 'IBM Data Risk Manager', 'Red Hat System Administration I (RH124)', 'Red Hat Application Development I: Programming in Java EE (AD183)']\n",
      "['IBM Watson Machine Learning Accelerator', 'QRadar Community Edition', 'IBM Security SOAR', 'IBM AI Education', 'IBM Z Software Trials']\n"
     ]
    },
    {
     "name": "stderr",
     "output_type": "stream",
     "text": [
      "/tmp/ipykernel_127386/3742294103.py:8: FutureWarning: The frame.append method is deprecated and will be removed from pandas in a future version. Use pandas.concat instead.\n",
      "  result_df = result_df.append({'Topic': topic, 'Recommended_Course_1': recommendations[0],\n",
      "/tmp/ipykernel_127386/3742294103.py:8: FutureWarning: The frame.append method is deprecated and will be removed from pandas in a future version. Use pandas.concat instead.\n",
      "  result_df = result_df.append({'Topic': topic, 'Recommended_Course_1': recommendations[0],\n",
      "/tmp/ipykernel_127386/3742294103.py:8: FutureWarning: The frame.append method is deprecated and will be removed from pandas in a future version. Use pandas.concat instead.\n",
      "  result_df = result_df.append({'Topic': topic, 'Recommended_Course_1': recommendations[0],\n",
      "/tmp/ipykernel_127386/3742294103.py:8: FutureWarning: The frame.append method is deprecated and will be removed from pandas in a future version. Use pandas.concat instead.\n",
      "  result_df = result_df.append({'Topic': topic, 'Recommended_Course_1': recommendations[0],\n"
     ]
    },
    {
     "name": "stdout",
     "output_type": "stream",
     "text": [
      "['IBM XL Fortran', 'Introduction to IBM zSystems', 'QRadar SIEM', 'IBM Cloud Associate Solution Advisor', 'IBM Robotic Process Automation - Basic II']\n"
     ]
    },
    {
     "name": "stderr",
     "output_type": "stream",
     "text": [
      "/tmp/ipykernel_127386/3742294103.py:8: FutureWarning: The frame.append method is deprecated and will be removed from pandas in a future version. Use pandas.concat instead.\n",
      "  result_df = result_df.append({'Topic': topic, 'Recommended_Course_1': recommendations[0],\n"
     ]
    },
    {
     "name": "stdout",
     "output_type": "stream",
     "text": [
      "['IBM XL C/C++', 'IBM Cloud Associate Solution Advisor', 'AI Fairness 360', 'OpenDS4All', 'Red Hat System Administration I (RH124)']\n",
      "['Red Hat System Administration I (RH124)', 'IBM Z Software Trials', 'IBM Rational Developer for i RPG & COBOL Tools', 'IBM Data Risk Manager', 'IBM Z System Administrator']\n",
      "['Red Hat System Administration II (RH134)', 'IBM AI Education', 'IBM Security SOAR', 'IBM Z Enterprise Computing Kickstart', 'Application Modernization with IBM z/OS']\n",
      "['Red Hat Application Development I: Programming in Java EE (AD183)', 'Red Hat Enterprise Linux Automation with Ansible (RH294)', 'IBM Data Risk Manager', 'Adversarial Robustness Toolbox', 'Getting Started with Enterprise Data Science']\n"
     ]
    },
    {
     "name": "stderr",
     "output_type": "stream",
     "text": [
      "/tmp/ipykernel_127386/3742294103.py:8: FutureWarning: The frame.append method is deprecated and will be removed from pandas in a future version. Use pandas.concat instead.\n",
      "  result_df = result_df.append({'Topic': topic, 'Recommended_Course_1': recommendations[0],\n",
      "/tmp/ipykernel_127386/3742294103.py:8: FutureWarning: The frame.append method is deprecated and will be removed from pandas in a future version. Use pandas.concat instead.\n",
      "  result_df = result_df.append({'Topic': topic, 'Recommended_Course_1': recommendations[0],\n",
      "/tmp/ipykernel_127386/3742294103.py:8: FutureWarning: The frame.append method is deprecated and will be removed from pandas in a future version. Use pandas.concat instead.\n",
      "  result_df = result_df.append({'Topic': topic, 'Recommended_Course_1': recommendations[0],\n",
      "/tmp/ipykernel_127386/3742294103.py:8: FutureWarning: The frame.append method is deprecated and will be removed from pandas in a future version. Use pandas.concat instead.\n",
      "  result_df = result_df.append({'Topic': topic, 'Recommended_Course_1': recommendations[0],\n"
     ]
    },
    {
     "name": "stdout",
     "output_type": "stream",
     "text": [
      "['Introduction to OpenShift Applications (DO101)', 'Introduction to IBM zSystems', 'QRadar SIEM', 'IBM Robotic Process Automation - Basic II', 'Red Hat OpenStack Administration I: Core Operations for Domain Operators (CL110)']\n"
     ]
    },
    {
     "name": "stderr",
     "output_type": "stream",
     "text": [
      "/tmp/ipykernel_127386/3742294103.py:8: FutureWarning: The frame.append method is deprecated and will be removed from pandas in a future version. Use pandas.concat instead.\n",
      "  result_df = result_df.append({'Topic': topic, 'Recommended_Course_1': recommendations[0],\n"
     ]
    },
    {
     "name": "stdout",
     "output_type": "stream",
     "text": [
      "['Red Hat OpenShift I: Containers & Kubernetes (DO180)', 'z/OS Introduction', 'Red Hat OpenStack Administration I: Core Operations for Domain Operators (CL110)', 'IBM Engineering Workflow Management', 'Introduction to OpenShift Applications (DO101)']\n",
      "['Red Hat OpenStack Administration I: Core Operations for Domain Operators (CL110)', 'Introduction to OpenShift Applications (DO101)', 'Solution tutorials', 'IBM Z System Administrator', 'Red Hat OpenShift I: Containers & Kubernetes (DO180)']\n",
      "['Red Hat Application Development I: Programming in Java EE (AD183)', 'Red Hat Enterprise Linux Automation with Ansible (RH294)', 'IBM Cognos Analytics - Author Reports Fundamentals', 'QRadar Community Edition', 'IBM QRadar SIEM Advanced Topics']\n"
     ]
    },
    {
     "name": "stderr",
     "output_type": "stream",
     "text": [
      "/tmp/ipykernel_127386/3742294103.py:8: FutureWarning: The frame.append method is deprecated and will be removed from pandas in a future version. Use pandas.concat instead.\n",
      "  result_df = result_df.append({'Topic': topic, 'Recommended_Course_1': recommendations[0],\n",
      "/tmp/ipykernel_127386/3742294103.py:8: FutureWarning: The frame.append method is deprecated and will be removed from pandas in a future version. Use pandas.concat instead.\n",
      "  result_df = result_df.append({'Topic': topic, 'Recommended_Course_1': recommendations[0],\n",
      "/tmp/ipykernel_127386/3742294103.py:8: FutureWarning: The frame.append method is deprecated and will be removed from pandas in a future version. Use pandas.concat instead.\n",
      "  result_df = result_df.append({'Topic': topic, 'Recommended_Course_1': recommendations[0],\n"
     ]
    }
   ],
   "source": [
    "for topic in topic_list:\n",
    "    # Get recommendations for each topic\n",
    "    recommend = recommend_courses_by_topic(data, [topic])\n",
    "    if recommend:\n",
    "        # Add the top-5 recommendations\n",
    "        recommendations = recommend + ['N/A'] * (5 - len(recommend))  # Fill empty slots with 'NA'\n",
    "        result_df = result_df.append({'Topic': topic, 'Recommended_Course_1': recommendations[0],\n",
    "                                      'Recommended_Course_2': recommendations[1],\n",
    "                                      'Recommended_Course_3': recommendations[2],\n",
    "                                      'Recommended_Course_4': recommendations[3],\n",
    "                                      'Recommended_Course_5': recommendations[4]}, ignore_index=True)"
   ]
  },
  {
   "cell_type": "code",
   "execution_count": 7,
   "metadata": {},
   "outputs": [],
   "source": [
    "# Save the result DataFrame to a new CSV file\n",
    "result_df.to_csv('recommended_courses_w2w.csv', index=False)"
   ]
  },
  {
   "cell_type": "code",
   "execution_count": 8,
   "metadata": {},
   "outputs": [
    {
     "name": "stdout",
     "output_type": "stream",
     "text": [
      "Loaded data file recommended_courses_w2w.csv with 84 rows and 6 columns\n"
     ]
    },
    {
     "data": {
      "text/html": [
       "<div>\n",
       "<style scoped>\n",
       "    .dataframe tbody tr th:only-of-type {\n",
       "        vertical-align: middle;\n",
       "    }\n",
       "\n",
       "    .dataframe tbody tr th {\n",
       "        vertical-align: top;\n",
       "    }\n",
       "\n",
       "    .dataframe thead th {\n",
       "        text-align: right;\n",
       "    }\n",
       "</style>\n",
       "<table border=\"1\" class=\"dataframe\">\n",
       "  <thead>\n",
       "    <tr style=\"text-align: right;\">\n",
       "      <th></th>\n",
       "      <th>Topic</th>\n",
       "      <th>Recommended_Course_1</th>\n",
       "      <th>Recommended_Course_2</th>\n",
       "      <th>Recommended_Course_3</th>\n",
       "      <th>Recommended_Course_4</th>\n",
       "      <th>Recommended_Course_5</th>\n",
       "    </tr>\n",
       "  </thead>\n",
       "  <tbody>\n",
       "    <tr>\n",
       "      <th>0</th>\n",
       "      <td>Getting Started with Enterprise-grade AI</td>\n",
       "      <td>Getting Started with Enterprise-grade AI</td>\n",
       "      <td>Getting Started with Enterprise Data Science</td>\n",
       "      <td>Getting Started with Threat Intelligence and H...</td>\n",
       "      <td>IBM CloudLabs</td>\n",
       "      <td>IBM QRadar SIEM Advanced Topics</td>\n",
       "    </tr>\n",
       "    <tr>\n",
       "      <th>1</th>\n",
       "      <td>OpenDS4All</td>\n",
       "      <td>OpenDS4All</td>\n",
       "      <td>Red Hat System Administration I (RH124)</td>\n",
       "      <td>IBM XL C/C++</td>\n",
       "      <td>IBM XL Fortran</td>\n",
       "      <td>IBM Cloud Feature Code</td>\n",
       "    </tr>\n",
       "    <tr>\n",
       "      <th>2</th>\n",
       "      <td>IBM AI Education</td>\n",
       "      <td>IBM AI Education</td>\n",
       "      <td>IBM Engineering Test Management</td>\n",
       "      <td>Introduction to IBM zSystems</td>\n",
       "      <td>Application Modernization with IBM z/OS</td>\n",
       "      <td>Planning Analytics</td>\n",
       "    </tr>\n",
       "    <tr>\n",
       "      <th>3</th>\n",
       "      <td>Watson Academy</td>\n",
       "      <td>Watson Academy</td>\n",
       "      <td>IBM Engineering Workflow Management</td>\n",
       "      <td>z/OS Introduction</td>\n",
       "      <td>Project Debater for Academic Use</td>\n",
       "      <td>IBM Z Software Trials</td>\n",
       "    </tr>\n",
       "    <tr>\n",
       "      <th>4</th>\n",
       "      <td>Create a Node-RED starter application</td>\n",
       "      <td>Create a Node-RED starter application</td>\n",
       "      <td>IBM Z System Administrator</td>\n",
       "      <td>Project CodeNet</td>\n",
       "      <td>IBM Security SOAR</td>\n",
       "      <td>Trustworthy Generation 360</td>\n",
       "    </tr>\n",
       "  </tbody>\n",
       "</table>\n",
       "</div>"
      ],
      "text/plain": [
       "                                      Topic  \\\n",
       "0  Getting Started with Enterprise-grade AI   \n",
       "1                                OpenDS4All   \n",
       "2                          IBM AI Education   \n",
       "3                            Watson Academy   \n",
       "4     Create a Node-RED starter application   \n",
       "\n",
       "                       Recommended_Course_1  \\\n",
       "0  Getting Started with Enterprise-grade AI   \n",
       "1                                OpenDS4All   \n",
       "2                          IBM AI Education   \n",
       "3                            Watson Academy   \n",
       "4     Create a Node-RED starter application   \n",
       "\n",
       "                           Recommended_Course_2  \\\n",
       "0  Getting Started with Enterprise Data Science   \n",
       "1       Red Hat System Administration I (RH124)   \n",
       "2               IBM Engineering Test Management   \n",
       "3           IBM Engineering Workflow Management   \n",
       "4                    IBM Z System Administrator   \n",
       "\n",
       "                                Recommended_Course_3  \\\n",
       "0  Getting Started with Threat Intelligence and H...   \n",
       "1                                       IBM XL C/C++   \n",
       "2                       Introduction to IBM zSystems   \n",
       "3                                  z/OS Introduction   \n",
       "4                                    Project CodeNet   \n",
       "\n",
       "                      Recommended_Course_4             Recommended_Course_5  \n",
       "0                            IBM CloudLabs  IBM QRadar SIEM Advanced Topics  \n",
       "1                           IBM XL Fortran           IBM Cloud Feature Code  \n",
       "2  Application Modernization with IBM z/OS               Planning Analytics  \n",
       "3         Project Debater for Academic Use            IBM Z Software Trials  \n",
       "4                        IBM Security SOAR       Trustworthy Generation 360  "
      ]
     },
     "execution_count": 8,
     "metadata": {},
     "output_type": "execute_result"
    }
   ],
   "source": [
    "#Read the merged file\n",
    "recommended_courses_w2w = pd.read_csv(\"recommended_courses_w2w.csv\", encoding=\"latin-1\")\n",
    "print(\"Loaded data file {0} with {1} rows and {2} columns\".format(\"recommended_courses_w2w.csv\"\n",
    "                                                                  ,recommended_courses_w2w.shape[0]\n",
    "                                                                  ,recommended_courses_w2w.shape[1]))\n",
    "\n",
    "recommended_courses_w2w.head()"
   ]
  },
  {
   "cell_type": "code",
   "execution_count": 9,
   "metadata": {},
   "outputs": [
    {
     "data": {
      "text/plain": [
       "Topic                   0.0\n",
       "Recommended_Course_1    0.0\n",
       "Recommended_Course_2    0.0\n",
       "Recommended_Course_3    0.0\n",
       "Recommended_Course_4    0.0\n",
       "Recommended_Course_5    0.0\n",
       "dtype: float64"
      ]
     },
     "execution_count": 9,
     "metadata": {},
     "output_type": "execute_result"
    }
   ],
   "source": [
    "# Calculating the percentage of the missing values \n",
    "percentage = (recommended_courses_w2w.isnull().sum() / recommended_courses_w2w.shape[0]).sort_values(ascending=False)\n",
    "percentage"
   ]
  },
  {
   "cell_type": "markdown",
   "metadata": {},
   "source": [
    "# Load the Test Dataset"
   ]
  },
  {
   "cell_type": "code",
   "execution_count": 10,
   "metadata": {
    "scrolled": true
   },
   "outputs": [
    {
     "name": "stdout",
     "output_type": "stream",
     "text": [
      "Loaded data file test_data.csv with 84 rows and 2 columns\n"
     ]
    },
    {
     "data": {
      "text/html": [
       "<div>\n",
       "<style scoped>\n",
       "    .dataframe tbody tr th:only-of-type {\n",
       "        vertical-align: middle;\n",
       "    }\n",
       "\n",
       "    .dataframe tbody tr th {\n",
       "        vertical-align: top;\n",
       "    }\n",
       "\n",
       "    .dataframe thead th {\n",
       "        text-align: right;\n",
       "    }\n",
       "</style>\n",
       "<table border=\"1\" class=\"dataframe\">\n",
       "  <thead>\n",
       "    <tr style=\"text-align: right;\">\n",
       "      <th></th>\n",
       "      <th>Topic</th>\n",
       "      <th>label</th>\n",
       "    </tr>\n",
       "  </thead>\n",
       "  <tbody>\n",
       "    <tr>\n",
       "      <th>0</th>\n",
       "      <td>Getting Started with Enterprise Data Science</td>\n",
       "      <td>Getting Started with Enterprise-grade AI</td>\n",
       "    </tr>\n",
       "    <tr>\n",
       "      <th>1</th>\n",
       "      <td>Getting Started with Threat Intelligence and H...</td>\n",
       "      <td>Getting Started with Enterprise Data Science</td>\n",
       "    </tr>\n",
       "    <tr>\n",
       "      <th>2</th>\n",
       "      <td>IBM Cloud Feature Code</td>\n",
       "      <td>Solution tutorials</td>\n",
       "    </tr>\n",
       "    <tr>\n",
       "      <th>3</th>\n",
       "      <td>IBM CloudLabs</td>\n",
       "      <td>Journey to Cloud: Envisioning Your Solution</td>\n",
       "    </tr>\n",
       "    <tr>\n",
       "      <th>4</th>\n",
       "      <td>IBM Cognos Analytics - Architecture and Logging</td>\n",
       "      <td>IBM Planning Analytics - Design and Develop Mo...</td>\n",
       "    </tr>\n",
       "  </tbody>\n",
       "</table>\n",
       "</div>"
      ],
      "text/plain": [
       "                                               Topic  \\\n",
       "0       Getting Started with Enterprise Data Science   \n",
       "1  Getting Started with Threat Intelligence and H...   \n",
       "2                             IBM Cloud Feature Code   \n",
       "3                                      IBM CloudLabs   \n",
       "4    IBM Cognos Analytics - Architecture and Logging   \n",
       "\n",
       "                                               label  \n",
       "0           Getting Started with Enterprise-grade AI  \n",
       "1       Getting Started with Enterprise Data Science  \n",
       "2                                 Solution tutorials  \n",
       "3        Journey to Cloud: Envisioning Your Solution  \n",
       "4  IBM Planning Analytics - Design and Develop Mo...  "
      ]
     },
     "execution_count": 10,
     "metadata": {},
     "output_type": "execute_result"
    }
   ],
   "source": [
    "#Read the file\n",
    "test_data = pd.read_csv(\"test_data.csv\", encoding=\"latin-1\")\n",
    "print(\"Loaded data file {0} with {1} rows and {2} columns\".format(\"test_data.csv\"\n",
    "                                                                  ,test_data.shape[0]\n",
    "                                                                  ,test_data.shape[1]))\n",
    "\n",
    "test_data.head()"
   ]
  },
  {
   "cell_type": "code",
   "execution_count": 11,
   "metadata": {},
   "outputs": [],
   "source": [
    "# Merge the test data with the recommended courses data based on course_name \n",
    "merged_data = test_data.merge(recommended_courses_w2w, on='Topic')\n",
    "merged_data.to_csv('merged_data.csv', index=False)"
   ]
  },
  {
   "cell_type": "code",
   "execution_count": 12,
   "metadata": {},
   "outputs": [
    {
     "name": "stdout",
     "output_type": "stream",
     "text": [
      "Index(['Topic', 'label', 'Recommended_Course_1', 'Recommended_Course_2',\n",
      "       'Recommended_Course_3', 'Recommended_Course_4', 'Recommended_Course_5'],\n",
      "      dtype='object')\n"
     ]
    }
   ],
   "source": [
    "print(merged_data.columns)"
   ]
  },
  {
   "cell_type": "code",
   "execution_count": 13,
   "metadata": {},
   "outputs": [
    {
     "name": "stdout",
     "output_type": "stream",
     "text": [
      "Loaded data file merged_data_w2w.csv with 83 rows and 7 columns\n"
     ]
    },
    {
     "data": {
      "text/html": [
       "<div>\n",
       "<style scoped>\n",
       "    .dataframe tbody tr th:only-of-type {\n",
       "        vertical-align: middle;\n",
       "    }\n",
       "\n",
       "    .dataframe tbody tr th {\n",
       "        vertical-align: top;\n",
       "    }\n",
       "\n",
       "    .dataframe thead th {\n",
       "        text-align: right;\n",
       "    }\n",
       "</style>\n",
       "<table border=\"1\" class=\"dataframe\">\n",
       "  <thead>\n",
       "    <tr style=\"text-align: right;\">\n",
       "      <th></th>\n",
       "      <th>Topic</th>\n",
       "      <th>label</th>\n",
       "      <th>Recommended_Course_1</th>\n",
       "      <th>Recommended_Course_2</th>\n",
       "      <th>Recommended_Course_3</th>\n",
       "      <th>Recommended_Course_4</th>\n",
       "      <th>Recommended_Course_5</th>\n",
       "    </tr>\n",
       "  </thead>\n",
       "  <tbody>\n",
       "    <tr>\n",
       "      <th>0</th>\n",
       "      <td>Getting Started with Enterprise Data Science</td>\n",
       "      <td>Getting Started with Enterprise-grade AI</td>\n",
       "      <td>Getting Started with Enterprise-grade AI</td>\n",
       "      <td>Getting Started with Threat Intelligence and H...</td>\n",
       "      <td>Getting Started with Enterprise Data Science</td>\n",
       "      <td>IBM QRadar SIEM Advanced Topics</td>\n",
       "      <td>IBM Watson Machine Learning Accelerator</td>\n",
       "    </tr>\n",
       "    <tr>\n",
       "      <th>1</th>\n",
       "      <td>Getting Started with Threat Intelligence and H...</td>\n",
       "      <td>Getting Started with Enterprise Data Science</td>\n",
       "      <td>Getting Started with Enterprise Data Science</td>\n",
       "      <td>Getting Started with Enterprise-grade AI</td>\n",
       "      <td>Getting Started with Threat Intelligence and H...</td>\n",
       "      <td>Causal Inference 360</td>\n",
       "      <td>Uncertainty Quantification 360</td>\n",
       "    </tr>\n",
       "    <tr>\n",
       "      <th>2</th>\n",
       "      <td>IBM Cloud Feature Code</td>\n",
       "      <td>Solution tutorials</td>\n",
       "      <td>Solution tutorials</td>\n",
       "      <td>Journey to Cloud: Envisioning Your Solution</td>\n",
       "      <td>Fundamentals of IBM Process Mining</td>\n",
       "      <td>Project CodeNet</td>\n",
       "      <td>IBM Engineering Requirements Management DOORS ...</td>\n",
       "    </tr>\n",
       "    <tr>\n",
       "      <th>3</th>\n",
       "      <td>IBM CloudLabs</td>\n",
       "      <td>Journey to Cloud: Envisioning Your Solution</td>\n",
       "      <td>Journey to Cloud: Envisioning Your Solution</td>\n",
       "      <td>Fundamentals of IBM Process Mining</td>\n",
       "      <td>Solution tutorials</td>\n",
       "      <td>IBM Planning Analytics - Design and Develop Mo...</td>\n",
       "      <td>IBM Robotic Process Automation - Basic I</td>\n",
       "    </tr>\n",
       "    <tr>\n",
       "      <th>4</th>\n",
       "      <td>IBM Cognos Analytics - Architecture and Logging</td>\n",
       "      <td>IBM Planning Analytics - Design and Develop Mo...</td>\n",
       "      <td>IBM Cognos Analytics - Architecture and Logging</td>\n",
       "      <td>IBM Cognos Framework Manager - Design Metadata...</td>\n",
       "      <td>IBM Planning Analytics - Design and Develop Mo...</td>\n",
       "      <td>SPSS Modeler Premium</td>\n",
       "      <td>IBM Planning Analytics - Analyze Data and Crea...</td>\n",
       "    </tr>\n",
       "  </tbody>\n",
       "</table>\n",
       "</div>"
      ],
      "text/plain": [
       "                                               Topic  \\\n",
       "0       Getting Started with Enterprise Data Science   \n",
       "1  Getting Started with Threat Intelligence and H...   \n",
       "2                             IBM Cloud Feature Code   \n",
       "3                                      IBM CloudLabs   \n",
       "4    IBM Cognos Analytics - Architecture and Logging   \n",
       "\n",
       "                                               label  \\\n",
       "0           Getting Started with Enterprise-grade AI   \n",
       "1       Getting Started with Enterprise Data Science   \n",
       "2                                 Solution tutorials   \n",
       "3        Journey to Cloud: Envisioning Your Solution   \n",
       "4  IBM Planning Analytics - Design and Develop Mo...   \n",
       "\n",
       "                              Recommended_Course_1  \\\n",
       "0         Getting Started with Enterprise-grade AI   \n",
       "1     Getting Started with Enterprise Data Science   \n",
       "2                               Solution tutorials   \n",
       "3      Journey to Cloud: Envisioning Your Solution   \n",
       "4  IBM Cognos Analytics - Architecture and Logging   \n",
       "\n",
       "                                Recommended_Course_2  \\\n",
       "0  Getting Started with Threat Intelligence and H...   \n",
       "1           Getting Started with Enterprise-grade AI   \n",
       "2        Journey to Cloud: Envisioning Your Solution   \n",
       "3                 Fundamentals of IBM Process Mining   \n",
       "4  IBM Cognos Framework Manager - Design Metadata...   \n",
       "\n",
       "                                Recommended_Course_3  \\\n",
       "0       Getting Started with Enterprise Data Science   \n",
       "1  Getting Started with Threat Intelligence and H...   \n",
       "2                 Fundamentals of IBM Process Mining   \n",
       "3                                 Solution tutorials   \n",
       "4  IBM Planning Analytics - Design and Develop Mo...   \n",
       "\n",
       "                                Recommended_Course_4  \\\n",
       "0                    IBM QRadar SIEM Advanced Topics   \n",
       "1                               Causal Inference 360   \n",
       "2                                    Project CodeNet   \n",
       "3  IBM Planning Analytics - Design and Develop Mo...   \n",
       "4                               SPSS Modeler Premium   \n",
       "\n",
       "                                Recommended_Course_5  \n",
       "0            IBM Watson Machine Learning Accelerator  \n",
       "1                     Uncertainty Quantification 360  \n",
       "2  IBM Engineering Requirements Management DOORS ...  \n",
       "3           IBM Robotic Process Automation - Basic I  \n",
       "4  IBM Planning Analytics - Analyze Data and Crea...  "
      ]
     },
     "execution_count": 13,
     "metadata": {},
     "output_type": "execute_result"
    }
   ],
   "source": [
    "#Read the file\n",
    "data = pd.read_csv(\"merged_data_w2w.csv\", encoding=\"latin-1\")\n",
    "print(\"Loaded data file {0} with {1} rows and {2} columns\".format(\"merged_data_w2w.csv\"\n",
    "                                                                  ,data.shape[0]\n",
    "                                                                  ,data.shape[1]))\n",
    "\n",
    "data.head()"
   ]
  },
  {
   "cell_type": "markdown",
   "metadata": {},
   "source": [
    "# Calculate the Accuracy"
   ]
  },
  {
   "cell_type": "code",
   "execution_count": 14,
   "metadata": {},
   "outputs": [],
   "source": [
    "# Define function to calculate the top-k accuracy\n",
    "def calculate_accuracy(dataset, k):\n",
    "    accuracies = []\n",
    "    topics_with_accuracy_1 = []\n",
    "    \n",
    "    for i, row in dataset.iterrows():\n",
    "        recommended_courses = row[['Recommended_Course_1', 'Recommended_Course_2',\n",
    "                                   'Recommended_Course_3', 'Recommended_Course_4',\n",
    "                                   'Recommended_Course_5']].tolist()\n",
    "        recommended_courses = [course for course in recommended_courses if course != 'N/A']\n",
    "        label = row['label']\n",
    "        \n",
    "        if label in recommended_courses[:k]:\n",
    "            accuracies.append(1)\n",
    "            topics_with_accuracy_1.append(row['Topic'])\n",
    "        else:\n",
    "            accuracies.append(0)\n",
    "    \n",
    "    average_accuracy = np.mean(accuracies) * 100\n",
    "    average_accuracy = round(average_accuracy, 2)\n",
    "    return average_accuracy, topics_with_accuracy_1\n"
   ]
  },
  {
   "cell_type": "code",
   "execution_count": 20,
   "metadata": {},
   "outputs": [
    {
     "name": "stdout",
     "output_type": "stream",
     "text": [
      "Average Accuracy for k = 1: 33.73%\n"
     ]
    }
   ],
   "source": [
    "average_accuracy, topics_with_accuracy_1 = calculate_accuracy(data, 1)\n",
    "print(f\"Average Accuracy for k = 1: {average_accuracy}%\")"
   ]
  },
  {
   "cell_type": "code",
   "execution_count": 21,
   "metadata": {},
   "outputs": [
    {
     "name": "stdout",
     "output_type": "stream",
     "text": [
      "Topics with Accuracy = 1:\n",
      "Getting Started with Enterprise Data Science\n",
      "Getting Started with Threat Intelligence and Hunting\n",
      "IBM Cloud Feature Code\n",
      "IBM CloudLabs\n",
      "IBM Cognos Analytics - Author Reports Fundamentals\n",
      "IBM Cognos Analytics - Author Reports with Multidimensional Data\n",
      "IBM Cognos Framework Manager - Design Metadata Models\n",
      "IBM Data Risk Manager\n",
      "IBM DB2 Standard\n",
      "IBM Engineering Requirements Management DOORS Next\n",
      "IBM Engineering Test Management\n",
      "IBM Planning Analytics - Analyze Data and Create Reports\n",
      "IBM Planning Analytics - Design and Develop Models in Planning Analytics Workspace\n",
      "IBM Process Mining Collection\n",
      "IBM QRadar SIEM Advanced Topics\n",
      "IBM QRadar SIEM Foundations\n",
      "IBM Rational Developer for i RPG & COBOL Tools\n",
      "IBM Robotic Process Automation - Basic I\n",
      "IBM Security Learning Academy\n",
      "IBM Security SOAR\n",
      "IBM Watson Machine Learning Accelerator\n",
      "IBM XL Fortran\n",
      "IBM Z Enterprise Computing Kickstart\n",
      "IBM Z Software Trials\n",
      "ILOG CPLEX Optimization Studio\n",
      "Introduction to IBM zSystems\n",
      "Introduction to OpenShift Applications (DO101)\n",
      "Fundamentals of IBM Process Mining\n"
     ]
    }
   ],
   "source": [
    "# Print topics having accuracy = 1 for k = 1\n",
    "if topics_with_accuracy_1:\n",
    "    print(\"Topics with Accuracy = 1:\")\n",
    "    for topic in topics_with_accuracy_1:\n",
    "        print(topic)\n",
    "else:\n",
    "    print(\"No topics with Accuracy = 1 found.\")"
   ]
  },
  {
   "cell_type": "code",
   "execution_count": 19,
   "metadata": {},
   "outputs": [
    {
     "name": "stdout",
     "output_type": "stream",
     "text": [
      "Average Accuracy for k = 3: 36.14%\n"
     ]
    }
   ],
   "source": [
    "average_accuracy, topics_with_accuracy_3 = calculate_accuracy(data, 3)\n",
    "print(f\"Average Accuracy for k = 3: {average_accuracy}%\")"
   ]
  },
  {
   "cell_type": "code",
   "execution_count": 18,
   "metadata": {},
   "outputs": [
    {
     "name": "stdout",
     "output_type": "stream",
     "text": [
      "Average Accuracy for k = 5: 38.55%\n"
     ]
    }
   ],
   "source": [
    "average_accuracy, topics_with_accuracy_5 = calculate_accuracy(data, 5)\n",
    "print(f\"Average Accuracy for k = 5: {average_accuracy}%\")"
   ]
  }
 ],
 "metadata": {
  "kernelspec": {
   "display_name": "Python [conda env:Python3] *",
   "language": "python",
   "name": "conda-env-Python3-py"
  },
  "language_info": {
   "codemirror_mode": {
    "name": "ipython",
    "version": 3
   },
   "file_extension": ".py",
   "mimetype": "text/x-python",
   "name": "python",
   "nbconvert_exporter": "python",
   "pygments_lexer": "ipython3",
   "version": "3.9.15"
  }
 },
 "nbformat": 4,
 "nbformat_minor": 2
}
